{
 "cells": [
  {
   "cell_type": "code",
   "execution_count": 23,
   "metadata": {},
   "outputs": [],
   "source": [
    "# Import required modules\n",
    "\n",
    "import os\n",
    "import pprint\n",
    "import json"
   ]
  },
  {
   "cell_type": "code",
   "execution_count": 24,
   "metadata": {},
   "outputs": [],
   "source": [
    "# Used to test making file paths\n",
    "\n",
    "list1 = []\n",
    "\n",
    "path2 = \"./24 - Uprising\"\n",
    "\n",
    "for root, dirs, files in os.walk(path2):\n",
    "   for name in files:\n",
    "      list1.append(os.path.join(root, name))"
   ]
  },
  {
   "cell_type": "code",
   "execution_count": 26,
   "metadata": {},
   "outputs": [
    {
     "name": "stdout",
     "output_type": "stream",
     "text": [
      "['./24 - Uprising\\\\26066 - Hoshiko Shiro.png', './24 - Uprising\\\\26066-2 - Hoshiko Shiro Flip.png', './24 - Uprising\\\\26067 - Moshing.png', './24 - Uprising\\\\26068 - Devil Charm 2.png', './24 - Uprising\\\\26068 - Devil Charm.png', './24 - Uprising\\\\26070 - Keiko.png', './24 - Uprising\\\\26071 - Odore.png', './24 - Uprising\\\\26072 - Mystic Maemi.png', './24 - Uprising\\\\26073 - Paladin Poemu.png', './24 - Uprising\\\\26074 - Bravado.png', './24 - Uprising\\\\26075 - Boomerang.png', './24 - Uprising\\\\26076 - Mu Safecracker.png', './24 - Uprising\\\\26077 - Prognostic Q-Loop.png', './24 - Uprising\\\\26078 - Swift.png', './24 - Uprising\\\\26079 - Afterimage.png', './24 - Uprising\\\\26080 - Makler.png', './24 - Uprising\\\\26081 - Penumbral Toolkit.png', './24 - Uprising\\\\26082 - The Back.png', './24 - Uprising\\\\26083 - Harmony AR Therapy.png', './24 - Uprising\\\\26084 - Annicam.png', './24 - Uprising\\\\26085 - Simulchip.png', './24 - Uprising\\\\26086 - Cordyceps.png', './24 - Uprising\\\\26087 - Euler.png', './24 - Uprising\\\\26088 - Mantle.png', './24 - Uprising\\\\26089 - Penrose.png', './24 - Uprising\\\\26091 - Cybertrooper Talut.png', \"./24 - Uprising\\\\26092 - Paule's Café.png\", './24 - Uprising\\\\26093 - Buffer Drive.png', './24 - Uprising\\\\26095 - DreamNet.png', './24 - Uprising\\\\26096 - Megaprix Qualifier.png', './24 - Uprising\\\\26097 - Project Vacheron.png', './24 - Uprising\\\\26098 - Bass CH1R180G4.png', './24 - Uprising\\\\26100 - Vaporframe Fabricator.png', './24 - Uprising\\\\26101 - Drafter.png', './24 - Uprising\\\\26102 - Týr.png', './24 - Uprising\\\\26103 - NEXT Activation Command.png', './24 - Uprising\\\\26104 - Scapenet.png', './24 - Uprising\\\\26105 - Tranquility Home Grid.png', './24 - Uprising\\\\26106 - Flower Sermon.png', './24 - Uprising\\\\26107 - Prāna Condenser.png', './24 - Uprising\\\\26108 - Engram Flush.png', './24 - Uprising\\\\26109 - Konjin.png', './24 - Uprising\\\\26110 - Hyoubu Precog Manifold.png', './24 - Uprising\\\\26112 - La Costa Grid.png', './24 - Uprising\\\\26113 - GameNET.png', './24 - Uprising\\\\26114 - Bellona.png', './24 - Uprising\\\\26115 - F2P.png', './24 - Uprising\\\\26116 - Gold Farmer.png', './24 - Uprising\\\\26117 - Digital Rights Management.png', './24 - Uprising\\\\26118 - SYNC Rerouting.png', './24 - Uprising\\\\26119 - Ganked.png', './24 - Uprising\\\\26120 - Earth Station.png', './24 - Uprising\\\\26120-2 - Earth Station Flip.png', './24 - Uprising\\\\26121 - Transport Monopoly.png', './24 - Uprising\\\\26122 - Wall to Wall.png', './24 - Uprising\\\\26123 - Akhet.png', './24 - Uprising\\\\26124 - Colossus.png', './24 - Uprising\\\\26125 - Winchester.png', './24 - Uprising\\\\26126 - Argus Crackdown.png', './24 - Uprising\\\\26127 - Cayambe Grid.png', './24 - Uprising\\\\26128 - Cyberdex Sandbox.png', './24 - Uprising\\\\26129 - False Lead.png', './24 - Uprising\\\\26130 - NAPD Cordon.png']\n"
     ]
    }
   ],
   "source": [
    "#Strip out the MacOS exclusive 'DS_Store' file path for file cleanliness.\n",
    "\n",
    "listFiltered = [x for x in list1 if not 'DS_Store' in x]\n",
    "print(listFiltered)"
   ]
  },
  {
   "cell_type": "code",
   "execution_count": 27,
   "metadata": {},
   "outputs": [],
   "source": [
    "# Creates (or overwrites) file, take the card listings stored in \"listFiltered\", writes line-by-line into the file and adds a carriage return, then closes it.\n",
    "\n",
    "fileName = \"CardListings-Uprising.txt\"\n",
    "f = open(fileName, \"w\",encoding=\"utf8\")\n",
    "\n",
    "for i in listFiltered:\n",
    "    f.write(i)\n",
    "    f.write(\"\\n\")\n",
    "\n",
    "f.close()"
   ]
  },
  {
   "cell_type": "code",
   "execution_count": 28,
   "metadata": {},
   "outputs": [
    {
     "name": "stdout",
     "output_type": "stream",
     "text": [
      "['./24 - Uprising/26066 - Hoshiko Shiro.png', './24 - Uprising/26066-2 - Hoshiko Shiro Flip.png', './24 - Uprising/26067 - Moshing.png', './24 - Uprising/26068 - Devil Charm 2.png', './24 - Uprising/26068 - Devil Charm.png', './24 - Uprising/26070 - Keiko.png', './24 - Uprising/26071 - Odore.png', './24 - Uprising/26072 - Mystic Maemi.png', './24 - Uprising/26073 - Paladin Poemu.png', './24 - Uprising/26074 - Bravado.png', './24 - Uprising/26075 - Boomerang.png', './24 - Uprising/26076 - Mu Safecracker.png', './24 - Uprising/26077 - Prognostic Q-Loop.png', './24 - Uprising/26078 - Swift.png', './24 - Uprising/26079 - Afterimage.png', './24 - Uprising/26080 - Makler.png', './24 - Uprising/26081 - Penumbral Toolkit.png', './24 - Uprising/26082 - The Back.png', './24 - Uprising/26083 - Harmony AR Therapy.png', './24 - Uprising/26084 - Annicam.png', './24 - Uprising/26085 - Simulchip.png', './24 - Uprising/26086 - Cordyceps.png', './24 - Uprising/26087 - Euler.png', './24 - Uprising/26088 - Mantle.png', './24 - Uprising/26089 - Penrose.png', './24 - Uprising/26091 - Cybertrooper Talut.png', \"./24 - Uprising/26092 - Paule's Café.png\", './24 - Uprising/26093 - Buffer Drive.png', './24 - Uprising/26095 - DreamNet.png', './24 - Uprising/26096 - Megaprix Qualifier.png', './24 - Uprising/26097 - Project Vacheron.png', './24 - Uprising/26098 - Bass CH1R180G4.png', './24 - Uprising/26100 - Vaporframe Fabricator.png', './24 - Uprising/26101 - Drafter.png', './24 - Uprising/26102 - Týr.png', './24 - Uprising/26103 - NEXT Activation Command.png', './24 - Uprising/26104 - Scapenet.png', './24 - Uprising/26105 - Tranquility Home Grid.png', './24 - Uprising/26106 - Flower Sermon.png', './24 - Uprising/26107 - Prāna Condenser.png', './24 - Uprising/26108 - Engram Flush.png', './24 - Uprising/26109 - Konjin.png', './24 - Uprising/26110 - Hyoubu Precog Manifold.png', './24 - Uprising/26112 - La Costa Grid.png', './24 - Uprising/26113 - GameNET.png', './24 - Uprising/26114 - Bellona.png', './24 - Uprising/26115 - F2P.png', './24 - Uprising/26116 - Gold Farmer.png', './24 - Uprising/26117 - Digital Rights Management.png', './24 - Uprising/26118 - SYNC Rerouting.png', './24 - Uprising/26119 - Ganked.png', './24 - Uprising/26120 - Earth Station.png', './24 - Uprising/26120-2 - Earth Station Flip.png', './24 - Uprising/26121 - Transport Monopoly.png', './24 - Uprising/26122 - Wall to Wall.png', './24 - Uprising/26123 - Akhet.png', './24 - Uprising/26124 - Colossus.png', './24 - Uprising/26125 - Winchester.png', './24 - Uprising/26126 - Argus Crackdown.png', './24 - Uprising/26127 - Cayambe Grid.png', './24 - Uprising/26128 - Cyberdex Sandbox.png', './24 - Uprising/26129 - False Lead.png', './24 - Uprising/26130 - NAPD Cordon.png']\n"
     ]
    }
   ],
   "source": [
    "# When file is opened, carriage returns are shown, so this will open the file into variable \"listFromFile\", strip out carriage returns and then place\n",
    "# the full list into \"CardList\"\n",
    "\n",
    "fileName = \"CardListings-Uprising.txt\"\n",
    "\n",
    "f = open(fileName, \"r\",encoding=\"utf8\")\n",
    "listFromFile = f.readlines()\n",
    "\n",
    "for x in listFromFile:\n",
    "    x = x.replace('\\n','')\n",
    "\n",
    "CardList = [x.replace('\\n', '').replace('', '').replace('\\\\','/') for x in listFromFile]\n",
    "print(CardList)"
   ]
  },
  {
   "cell_type": "code",
   "execution_count": 29,
   "metadata": {},
   "outputs": [
    {
     "name": "stdout",
     "output_type": "stream",
     "text": [
      "{'Hoshiko Shiro': './24 - Uprising/26066 - Hoshiko Shiro.png', 'Hoshiko Shiro Flip': './24 - Uprising/26066-2 - Hoshiko Shiro Flip.png', 'Moshing': './24 - Uprising/26067 - Moshing.png', 'Devil Charm 2': './24 - Uprising/26068 - Devil Charm 2.png', 'Devil Charm': './24 - Uprising/26068 - Devil Charm.png', 'Keiko': './24 - Uprising/26070 - Keiko.png', 'Odore': './24 - Uprising/26071 - Odore.png', 'Mystic Maemi': './24 - Uprising/26072 - Mystic Maemi.png', 'Paladin Poemu': './24 - Uprising/26073 - Paladin Poemu.png', 'Bravado': './24 - Uprising/26074 - Bravado.png', 'Boomerang': './24 - Uprising/26075 - Boomerang.png', 'Mu Safecracker': './24 - Uprising/26076 - Mu Safecracker.png', 'Prognostic Q-Loop': './24 - Uprising/26077 - Prognostic Q-Loop.png', 'Swift': './24 - Uprising/26078 - Swift.png', 'Afterimage': './24 - Uprising/26079 - Afterimage.png', 'Makler': './24 - Uprising/26080 - Makler.png', 'Penumbral Toolkit': './24 - Uprising/26081 - Penumbral Toolkit.png', 'The Back': './24 - Uprising/26082 - The Back.png', 'Harmony AR Therapy': './24 - Uprising/26083 - Harmony AR Therapy.png', 'Annicam': './24 - Uprising/26084 - Annicam.png', 'Simulchip': './24 - Uprising/26085 - Simulchip.png', 'Cordyceps': './24 - Uprising/26086 - Cordyceps.png', 'Euler': './24 - Uprising/26087 - Euler.png', 'Mantle': './24 - Uprising/26088 - Mantle.png', 'Penrose': './24 - Uprising/26089 - Penrose.png', 'Cybertrooper Talut': './24 - Uprising/26091 - Cybertrooper Talut.png', \"Paule's Café\": \"./24 - Uprising/26092 - Paule's Café.png\", 'Buffer Drive': './24 - Uprising/26093 - Buffer Drive.png', 'DreamNet': './24 - Uprising/26095 - DreamNet.png', 'Megaprix Qualifier': './24 - Uprising/26096 - Megaprix Qualifier.png', 'Project Vacheron': './24 - Uprising/26097 - Project Vacheron.png', 'Bass CH1R180G4': './24 - Uprising/26098 - Bass CH1R180G4.png', 'Vaporframe Fabricator': './24 - Uprising/26100 - Vaporframe Fabricator.png', 'Drafter': './24 - Uprising/26101 - Drafter.png', 'Týr': './24 - Uprising/26102 - Týr.png', 'NEXT Activation Command': './24 - Uprising/26103 - NEXT Activation Command.png', 'Scapenet': './24 - Uprising/26104 - Scapenet.png', 'Tranquility Home Grid': './24 - Uprising/26105 - Tranquility Home Grid.png', 'Flower Sermon': './24 - Uprising/26106 - Flower Sermon.png', 'Prāna Condenser': './24 - Uprising/26107 - Prāna Condenser.png', 'Engram Flush': './24 - Uprising/26108 - Engram Flush.png', 'Konjin': './24 - Uprising/26109 - Konjin.png', 'Hyoubu Precog Manifold': './24 - Uprising/26110 - Hyoubu Precog Manifold.png', 'La Costa Grid': './24 - Uprising/26112 - La Costa Grid.png', 'GameNET': './24 - Uprising/26113 - GameNET.png', 'Bellona': './24 - Uprising/26114 - Bellona.png', 'F2P': './24 - Uprising/26115 - F2P.png', 'Gold Farmer': './24 - Uprising/26116 - Gold Farmer.png', 'Digital Rights Management': './24 - Uprising/26117 - Digital Rights Management.png', 'SYNC Rerouting': './24 - Uprising/26118 - SYNC Rerouting.png', 'Ganked': './24 - Uprising/26119 - Ganked.png', 'Earth Station': './24 - Uprising/26120 - Earth Station.png', 'Earth Station Flip': './24 - Uprising/26120-2 - Earth Station Flip.png', 'Transport Monopoly': './24 - Uprising/26121 - Transport Monopoly.png', 'Wall to Wall': './24 - Uprising/26122 - Wall to Wall.png', 'Akhet': './24 - Uprising/26123 - Akhet.png', 'Colossus': './24 - Uprising/26124 - Colossus.png', 'Winchester': './24 - Uprising/26125 - Winchester.png', 'Argus Crackdown': './24 - Uprising/26126 - Argus Crackdown.png', 'Cayambe Grid': './24 - Uprising/26127 - Cayambe Grid.png', 'Cyberdex Sandbox': './24 - Uprising/26128 - Cyberdex Sandbox.png', 'False Lead': './24 - Uprising/26129 - False Lead.png', 'NAPD Cordon': './24 - Uprising/26130 - NAPD Cordon.png'}\n"
     ]
    }
   ],
   "source": [
    "Card_Dict = {}\n",
    "\n",
    "for i in CardList:\n",
    "    val = i\n",
    "    key = i.split(\"/\").pop()[:-4].split(\" - \").pop()\n",
    "    Card_Dict[key] = val\n",
    "    \n",
    "Uprising_Cards = Card_Dict\n",
    "print(Uprising_Cards)"
   ]
  },
  {
   "cell_type": "code",
   "execution_count": 30,
   "metadata": {},
   "outputs": [],
   "source": [
    "# Creating JSON file to dump the created dictionary \"Card_Dict\" into a file.\n",
    "\n",
    "with open(\"Uprising.json\", \"w\", encoding=\"utf8\") as file:\n",
    "    file.write(json.dumps(Uprising_Cards))"
   ]
  },
  {
   "cell_type": "code",
   "execution_count": 21,
   "metadata": {},
   "outputs": [
    {
     "data": {
      "text/plain": [
       "dict"
      ]
     },
     "execution_count": 21,
     "metadata": {},
     "output_type": "execute_result"
    }
   ],
   "source": [
    "type(Uprising_Cards)"
   ]
  },
  {
   "cell_type": "code",
   "execution_count": null,
   "metadata": {},
   "outputs": [],
   "source": []
  }
 ],
 "metadata": {
  "kernelspec": {
   "display_name": "Python 3",
   "language": "python",
   "name": "python3"
  },
  "language_info": {
   "codemirror_mode": {
    "name": "ipython",
    "version": 3
   },
   "file_extension": ".py",
   "mimetype": "text/x-python",
   "name": "python",
   "nbconvert_exporter": "python",
   "pygments_lexer": "ipython3",
   "version": "3.6.2"
  }
 },
 "nbformat": 4,
 "nbformat_minor": 2
}
