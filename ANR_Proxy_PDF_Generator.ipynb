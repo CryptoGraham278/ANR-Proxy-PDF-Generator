{
 "cells": [
  {
   "cell_type": "code",
   "execution_count": 1,
   "metadata": {},
   "outputs": [],
   "source": [
    "import os\n",
    "import pprint\n",
    "import json\n",
    "from IPython.display import Image\n",
    "from IPython.core.display import HTML\n",
    "from fpdf import FPDF\n",
    "from math import ceil\n",
    "import zlib"
   ]
  },
  {
   "cell_type": "code",
   "execution_count": 2,
   "metadata": {},
   "outputs": [],
   "source": [
    "with open(\"ANR_Card_Dictionary_Full.json\", \"r\",encoding=\"utf8\") as file:\n",
    "    Card_Dict = json.load(file)"
   ]
  },
  {
   "cell_type": "code",
   "execution_count": 4,
   "metadata": {},
   "outputs": [
    {
     "name": "stdout",
     "output_type": "stream",
     "text": [
      "3 Beanstalk Royalties\n",
      "\n",
      "1 Humanity Upgraded\n",
      "\n",
      "3 Too Big to Fail\n"
     ]
    }
   ],
   "source": [
    "File_Name = \"KlaasCards.txt\"\n",
    "\n",
    "Proxy_List = open(File_Name, \"r\", encoding=\"utf8\")\n",
    "InputDict = {}\n",
    "\n",
    "for i in Proxy_List:\n",
    "    print(i)\n",
    "    (val, key) = i.rstrip(\"\\n\").split(\" \", 1)\n",
    "    InputDict[key] = int(val)"
   ]
  },
  {
   "cell_type": "code",
   "execution_count": 6,
   "metadata": {},
   "outputs": [
    {
     "name": "stdout",
     "output_type": "stream",
     "text": [
      "{'Beanstalk Royalties': 3, 'Humanity Upgraded': 1, 'Too Big to Fail': 3}\n",
      "\n",
      "PDF output name will be KlaasCards.pdf\n",
      "\n",
      "['./20 - Revised Core/121 - Beanstalk Royalties.png',\n",
      " './20 - Revised Core/121 - Beanstalk Royalties.png',\n",
      " './20 - Revised Core/121 - Beanstalk Royalties.png',\n",
      " './08 - SanSan/03 - Chrome City/050 - Cybernetics Division - Humanity '\n",
      " 'Upgraded.png',\n",
      " './22 - Reign and Reverie/056 - Too Big to Fail.png',\n",
      " './22 - Reign and Reverie/056 - Too Big to Fail.png',\n",
      " './22 - Reign and Reverie/056 - Too Big to Fail.png']\n",
      "\n",
      "Page count will be 1\n"
     ]
    },
    {
     "data": {
      "text/plain": [
       "''"
      ]
     },
     "execution_count": 6,
     "metadata": {},
     "output_type": "execute_result"
    }
   ],
   "source": [
    "File_Name = \"KlaasCards.txt\"\n",
    "\n",
    "Proxy_List = open(File_Name, \"r\", encoding=\"utf8\")\n",
    "InputDict = {}\n",
    "\n",
    "for i in Proxy_List:\n",
    "    (val, key) = i.rstrip(\"\\n\").split(\" \", 1)\n",
    "    InputDict[key] = int(val)\n",
    "    \n",
    "pprint.pprint(InputDict)\n",
    "#print(Proxy_List)\n",
    "base = os.path.basename(File_Name)\n",
    "PDF_File_Name = os.path.splitext(base)[0]+\".pdf\"\n",
    "print(\"\")\n",
    "print(\"PDF output name will be\",PDF_File_Name)\n",
    "print(\"\")\n",
    "\n",
    "Retrieval_Run = []\n",
    "looper = 0\n",
    "\n",
    "for key in InputDict:\n",
    "    looper = InputDict[key]\n",
    "    while looper > 0:\n",
    "        Retrieval_Run.append(Card_Dict[key])\n",
    "        looper = looper - 1\n",
    "\n",
    "max_pages = ceil(len(Retrieval_Run) / 9)        \n",
    "\n",
    "pprint.pprint(Retrieval_Run)\n",
    "print(\"\")\n",
    "print(\"Page count will be\",max_pages)\n",
    "\n",
    "# Initialize FPDF with Portrait Style page, using inches (sorry, I'm an American ¯\\_(ツ)_/¯) with the Letter size format (Standard for a lot of printers)\n",
    "pdf = FPDF(orientation='P', unit='in', format='letter')\n",
    "Card_Counter = 0\n",
    "page_count = 0\n",
    "# Initial Coordinates [inches] of Card 1 starting in the top left corner\n",
    "x = 0.5\n",
    "y = 0.25\n",
    "\n",
    "pdf.set_compression(True)\n",
    "pdf.add_page()\n",
    "for image in Retrieval_Run:\n",
    "    pdf.image(image,x, y, w = 2.5, h = 3.5)\n",
    "    Card_Counter = Card_Counter + 1\n",
    "    x = x + 2.5\n",
    "    if Card_Counter == 3:\n",
    "        x = 0.5\n",
    "        y = 3.75\n",
    "    if Card_Counter == 6:\n",
    "        x = 0.5\n",
    "        y = 7.25\n",
    "    if Card_Counter == 9:\n",
    "        page_count = page_count + 1\n",
    "        if page_count == max_pages:\n",
    "            break\n",
    "        else:\n",
    "            pdf.add_page()\n",
    "        x = 0.5\n",
    "        y = 0.25\n",
    "        Card_Counter = 0\n",
    "\n",
    "    \n",
    "pdf.output(PDF_File_Name, \"F\")"
   ]
  },
  {
   "cell_type": "code",
   "execution_count": null,
   "metadata": {},
   "outputs": [],
   "source": []
  },
  {
   "cell_type": "code",
   "execution_count": 7,
   "metadata": {},
   "outputs": [
    {
     "name": "stdout",
     "output_type": "stream",
     "text": [
      "Beanstalk Royalties\n",
      "./20 - Revised Core/121 - Beanstalk Royalties.png\n"
     ]
    }
   ],
   "source": [
    "a = Retrieval_Run[0].split(\"/\").pop()[:-4].split(\" - \").pop()\n",
    "b = Retrieval_Run[0]\n",
    "\n",
    "print(a)\n",
    "print(b)"
   ]
  },
  {
   "cell_type": "code",
   "execution_count": 8,
   "metadata": {},
   "outputs": [
    {
     "data": {
      "text/plain": [
       "''"
      ]
     },
     "execution_count": 8,
     "metadata": {},
     "output_type": "execute_result"
    }
   ],
   "source": [
    "# Initialize FPDF with Portrait Style page, using inches (sorry, I'm an American ¯\\_(ツ)_/¯) with the Letter size format (Standard for a lot of printers)\n",
    "pdf = FPDF(orientation='P', unit='in', format='letter')\n",
    "Card_Counter = 0\n",
    "page_count = 0\n",
    "# Initial Coordinates [inches] of Card 1 starting in the top left corner\n",
    "x = 0.5\n",
    "y = 0.25\n",
    "\n",
    "pdf.add_page()\n",
    "for image in Retrieval_Run:\n",
    "    pdf.image(image,x, y, w = 2.5, h = 3.5)\n",
    "    Card_Counter = Card_Counter + 1\n",
    "    x = x + 2.5\n",
    "    if Card_Counter == 3:\n",
    "        x = 0.5\n",
    "        y = 3.75\n",
    "    if Card_Counter == 6:\n",
    "        x = 0.5\n",
    "        y = 7.25\n",
    "    if Card_Counter == 9:\n",
    "        page_count = page_count + 1\n",
    "        if page_count == max_pages:\n",
    "            break\n",
    "        else:\n",
    "            pdf.add_page()\n",
    "        x = 0.5\n",
    "        y = 0.25\n",
    "        Card_Counter = 0\n",
    "\n",
    "    \n",
    "pdf.output(PDF_File_Name, \"F\")"
   ]
  },
  {
   "cell_type": "code",
   "execution_count": 7,
   "metadata": {},
   "outputs": [
    {
     "name": "stdout",
     "output_type": "stream",
     "text": [
      "2\n"
     ]
    }
   ],
   "source": [
    "max_pages = ceil(len(Retrieval_Run) / 9)\n",
    "print(max_pages)"
   ]
  },
  {
   "cell_type": "code",
   "execution_count": 77,
   "metadata": {},
   "outputs": [
    {
     "data": {
      "text/plain": [
       "''"
      ]
     },
     "execution_count": 77,
     "metadata": {},
     "output_type": "execute_result"
    }
   ],
   "source": [
    "pdf = FPDF(orientation='P', unit='in', format='letter')\n",
    "\n",
    "pdf.add_page()\n",
    "pdf.image(Retrieval_Run[0],x=0.5, y=0.25, w = 2.5, h = 3.5)\n",
    "pdf.image(Retrieval_Run[1],x=3.0, y=0.25, w = 2.5, h = 3.5)\n",
    "pdf.image(Retrieval_Run[2],x=5.5, y=0.25, w = 2.5, h = 3.5)\n",
    "pdf.image(Retrieval_Run[3],x=0.5, y=3.75, w = 2.5, h = 3.5)\n",
    "pdf.image(Retrieval_Run[4],x=3.0, y=3.75, w = 2.5, h = 3.5)\n",
    "pdf.image(Retrieval_Run[5],x=5.5, y=3.75, w = 2.5, h = 3.5)\n",
    "pdf.image(Retrieval_Run[6],x=0.5, y=7.25, w = 2.5, h = 3.5)\n",
    "pdf.image(Retrieval_Run[7],x=3.0, y=7.25, w = 2.5, h = 3.5)\n",
    "pdf.image(Retrieval_Run[8],x=5.5, y=7.25, w = 2.5, h = 3.5)\n",
    "pdf.output(\"CardSample.pdf\")"
   ]
  },
  {
   "cell_type": "code",
   "execution_count": 5,
   "metadata": {},
   "outputs": [
    {
     "name": "stdout",
     "output_type": "stream",
     "text": [
      "SYNC44.pdf\n"
     ]
    }
   ],
   "source": [
    "File_Name = \"SYNC44.txt\"\n",
    "#print(File_Name.rstrip(\".txt\"))\n",
    "\n",
    "base = os.path.basename(File_Name)\n",
    "base\n",
    "#>>> base\n",
    "#'file.ext'\n",
    "os.path.splitext(base)\n",
    "#('file', '.ext')\n",
    "print(os.path.splitext(base)[0]+\".pdf\")\n",
    "#'file'\n",
    "\n",
    "\n"
   ]
  }
 ],
 "metadata": {
  "kernelspec": {
   "display_name": "Python 3",
   "language": "python",
   "name": "python3"
  },
  "language_info": {
   "codemirror_mode": {
    "name": "ipython",
    "version": 3
   },
   "file_extension": ".py",
   "mimetype": "text/x-python",
   "name": "python",
   "nbconvert_exporter": "python",
   "pygments_lexer": "ipython3",
   "version": "3.6.7"
  }
 },
 "nbformat": 4,
 "nbformat_minor": 2
}
