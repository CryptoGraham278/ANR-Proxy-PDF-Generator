{
 "cells": [
  {
   "cell_type": "code",
   "execution_count": 1,
   "metadata": {},
   "outputs": [],
   "source": [
    "# Import required modules\n",
    "\n",
    "import os\n",
    "import pprint\n",
    "import json"
   ]
  },
  {
   "cell_type": "code",
   "execution_count": 2,
   "metadata": {},
   "outputs": [],
   "source": [
    "# Used to test making file paths\n",
    "\n",
    "list1 = []\n",
    "\n",
    "path2 = \"./Champ Cards\"\n",
    "\n",
    "for root, dirs, files in os.walk(path2):\n",
    "   for name in files:\n",
    "      list1.append(os.path.join(root, name))"
   ]
  },
  {
   "cell_type": "code",
   "execution_count": 4,
   "metadata": {},
   "outputs": [
    {
     "name": "stdout",
     "output_type": "stream",
     "text": [
      "['./Champ Cards\\\\Border Control.jpg', './Champ Cards\\\\Crowdfunding.jpg', './Champ Cards\\\\Embolus.jpg', './Champ Cards\\\\Labor Rights.jpg', './Champ Cards\\\\Slot Machine.jpg', './Champ Cards\\\\Timely Public Release.jpg']\n"
     ]
    }
   ],
   "source": [
    "#Strip out the MacOS exclusive 'DS_Store' file path for file cleanliness.\n",
    "\n",
    "listFiltered = [x for x in list1 if not 'DS_Store' in x]\n",
    "print(listFiltered)"
   ]
  },
  {
   "cell_type": "code",
   "execution_count": 5,
   "metadata": {},
   "outputs": [],
   "source": [
    "# Creates (or overwrites) file, take the card listings stored in \"listFiltered\", writes line-by-line into the file and adds a carriage return, then closes it.\n",
    "\n",
    "fileName = \"CardListings-Champ.txt\"\n",
    "f = open(fileName, \"w\")\n",
    "\n",
    "for i in listFiltered:\n",
    "    f.write(i)\n",
    "    f.write(\"\\n\")\n",
    "\n",
    "f.close()"
   ]
  },
  {
   "cell_type": "code",
   "execution_count": 6,
   "metadata": {},
   "outputs": [
    {
     "name": "stdout",
     "output_type": "stream",
     "text": [
      "['./Champ Cards/Border Control.jpg', './Champ Cards/Crowdfunding.jpg', './Champ Cards/Embolus.jpg', './Champ Cards/Labor Rights.jpg', './Champ Cards/Slot Machine.jpg', './Champ Cards/Timely Public Release.jpg']\n"
     ]
    }
   ],
   "source": [
    "# When file is opened, carriage returns are shown, so this will open the file into variable \"listFromFile\", strip out carriage returns and then place\n",
    "# the full list into \"CardList\"\n",
    "\n",
    "fileName = \"CardListings-Champ.txt\"\n",
    "\n",
    "f = open(fileName, \"r\")\n",
    "listFromFile = f.readlines()\n",
    "\n",
    "for x in listFromFile:\n",
    "    x = x.replace('\\n','')\n",
    "\n",
    "CardList = [x.replace('\\n', '').replace('', '').replace('\\\\','/') for x in listFromFile]\n",
    "print(CardList)"
   ]
  },
  {
   "cell_type": "markdown",
   "metadata": {},
   "source": [
    "Implement Searching for Card list!"
   ]
  },
  {
   "cell_type": "code",
   "execution_count": 7,
   "metadata": {},
   "outputs": [],
   "source": [
    "CardName = \"Border Control\""
   ]
  },
  {
   "cell_type": "code",
   "execution_count": 9,
   "metadata": {},
   "outputs": [
    {
     "name": "stdout",
     "output_type": "stream",
     "text": [
      "Az McCaffrey\n"
     ]
    }
   ],
   "source": [
    "# Testing the split function from the input J.Net format list\n",
    "\n",
    "z = \"3 Az McCaffrey\"\n",
    "(vall, keyy) = z.split(\" \", 1)\n",
    "print(keyy)"
   ]
  },
  {
   "cell_type": "code",
   "execution_count": null,
   "metadata": {},
   "outputs": [],
   "source": [
    "# Sample code on how to read in a file as a dictionary. Not used for this code.\n",
    "\n",
    "d = {}\n",
    "with open(\"file.txt\") as f:\n",
    "    for line in f:\n",
    "       (key, val) = line.split()\n",
    "       d[int(key)] = val"
   ]
  },
  {
   "cell_type": "code",
   "execution_count": 8,
   "metadata": {},
   "outputs": [],
   "source": [
    "# Testing from the file structure list\n",
    "\n",
    "test_line = \"./10 - Mumbad/06 - Fear the Masses/105 - Improved Protein Source.png\"\n",
    "test_line2 = \"./20 - Revised Core/064 - Adonis Campaign.png\"\n",
    "test_line3 = \"./20 - Revised Core/077 - Jinteki - Personal Evolution.png\"\n",
    "test_line4 = \"./Champ Cards/Border Control.jpg\""
   ]
  },
  {
   "cell_type": "code",
   "execution_count": 9,
   "metadata": {},
   "outputs": [
    {
     "name": "stdout",
     "output_type": "stream",
     "text": [
      "./Champ Cards/Border Control.jpg\n"
     ]
    }
   ],
   "source": [
    "print(test_line4)"
   ]
  },
  {
   "cell_type": "code",
   "execution_count": 1,
   "metadata": {},
   "outputs": [
    {
     "ename": "NameError",
     "evalue": "name 'test_line4' is not defined",
     "output_type": "error",
     "traceback": [
      "\u001b[1;31m---------------------------------------------------------------------------\u001b[0m",
      "\u001b[1;31mNameError\u001b[0m                                 Traceback (most recent call last)",
      "\u001b[1;32m<ipython-input-1-be586feae2f6>\u001b[0m in \u001b[0;36m<module>\u001b[1;34m\u001b[0m\n\u001b[0;32m      1\u001b[0m \u001b[1;31m# In which I discover that .rstrip(\".png\") removes \"gn\", and \"n\" in files... so I had to figure out a better method\u001b[0m\u001b[1;33m\u001b[0m\u001b[1;33m\u001b[0m\u001b[0m\n\u001b[0;32m      2\u001b[0m \u001b[1;33m\u001b[0m\u001b[0m\n\u001b[1;32m----> 3\u001b[1;33m \u001b[0mtest_line4\u001b[0m\u001b[1;33m.\u001b[0m\u001b[0msplit\u001b[0m\u001b[1;33m(\u001b[0m\u001b[1;34m\"/\"\u001b[0m\u001b[1;33m)\u001b[0m\u001b[1;33m.\u001b[0m\u001b[0mpop\u001b[0m\u001b[1;33m(\u001b[0m\u001b[1;33m)\u001b[0m\u001b[1;33m.\u001b[0m\u001b[0mrstrip\u001b[0m\u001b[1;33m(\u001b[0m\u001b[1;34m\".jpg\"\u001b[0m\u001b[1;33m)\u001b[0m\u001b[1;33m\u001b[0m\u001b[0m\n\u001b[0m",
      "\u001b[1;31mNameError\u001b[0m: name 'test_line4' is not defined"
     ]
    }
   ],
   "source": [
    "# In which I discover that .rstrip(\".png\") removes \"gn\", and \"n\" in files... so I had to figure out a better method\n",
    "\n",
    "test_line4.split(\"/\").pop().rstrip(\".jpg\")"
   ]
  },
  {
   "cell_type": "code",
   "execution_count": 23,
   "metadata": {},
   "outputs": [
    {
     "data": {
      "text/plain": [
       "'Personal Evolution'"
      ]
     },
     "execution_count": 23,
     "metadata": {},
     "output_type": "execute_result"
    }
   ],
   "source": [
    "test_line3.split(\"/\").pop()[:-4].split(\" - \").pop()"
   ]
  },
  {
   "cell_type": "code",
   "execution_count": 15,
   "metadata": {},
   "outputs": [
    {
     "name": "stdout",
     "output_type": "stream",
     "text": [
      "{'Border Control': './Champ Cards/Border Control.jpg', 'Crowdfunding': './Champ Cards/Crowdfunding.jpg', 'Embolus': './Champ Cards/Embolus.jpg', 'Labor Rights': './Champ Cards/Labor Rights.jpg', 'Slot Machine': './Champ Cards/Slot Machine.jpg', 'Timely Public Release': './Champ Cards/Timely Public Release.jpg'}\n"
     ]
    }
   ],
   "source": [
    "Card_Dict = {}\n",
    "\n",
    "for i in CardList:\n",
    "    val = i\n",
    "    key = i.split(\"/\").pop()[:-4].split(\" - \").pop()\n",
    "    Card_Dict[key] = val\n",
    "    \n",
    "Champ_Cards = Card_Dict\n",
    "print(Champ_Cards)"
   ]
  },
  {
   "cell_type": "code",
   "execution_count": 14,
   "metadata": {},
   "outputs": [
    {
     "data": {
      "text/plain": [
       "'./Champ Cards/Border Control.jpg'"
      ]
     },
     "execution_count": 14,
     "metadata": {},
     "output_type": "execute_result"
    }
   ],
   "source": [
    "Champ_Cards[\"Border Control\"]"
   ]
  },
  {
   "cell_type": "code",
   "execution_count": 16,
   "metadata": {},
   "outputs": [],
   "source": [
    "# Creating JSON file to dump the created dictionary \"Card_Dict\" into a file.\n",
    "\n",
    "with open(\"Champ_Chards.json\", \"w\") as file:\n",
    "    file.write(json.dumps(Champ_Cards))"
   ]
  },
  {
   "cell_type": "code",
   "execution_count": 120,
   "metadata": {},
   "outputs": [],
   "source": [
    "# With the above file created, we can merely load the file in as a dictionary directly into variable \"temptemp\"\n",
    "\n",
    "with open(\"ANR_Card_Dictionary.json\", \"r\") as file:\n",
    "    temptemp = json.load(file)"
   ]
  },
  {
   "cell_type": "code",
   "execution_count": null,
   "metadata": {},
   "outputs": [],
   "source": []
  },
  {
   "cell_type": "code",
   "execution_count": 121,
   "metadata": {},
   "outputs": [
    {
     "name": "stdout",
     "output_type": "stream",
     "text": [
      "{'Bankroll': '2',\n",
      " 'Black Orchestra': '2',\n",
      " 'Clone Chip': '1',\n",
      " 'D4v1d': '2',\n",
      " 'DDoS': '2',\n",
      " 'Daily Casts': '3',\n",
      " 'Forked': '2',\n",
      " 'Hacktivist Meeting': '3',\n",
      " \"I've Had Worse\": '3',\n",
      " 'Inject': '3',\n",
      " 'Knifed': '2',\n",
      " 'Levy AR Lab Access': '2',\n",
      " 'Liberated Account': '3',\n",
      " 'MKUltra': '2',\n",
      " 'Mining Accident': '3',\n",
      " 'Paperclip': '2',\n",
      " 'Rebirth': '1',\n",
      " 'Same Old Thing': '3',\n",
      " 'Spooned': '2',\n",
      " 'Stimhack': '2',\n",
      " 'Sure Gamble': '3',\n",
      " 'The Archivist': '1',\n",
      " 'The Turning Wheel': '2',\n",
      " 'Turntable': '2'}\n"
     ]
    }
   ],
   "source": [
    "# Testing out opening the required input list and directly importing it as a dictionary with the following schema:\n",
    "#       {'Card Name' : Quantity, ...}\n",
    "\n",
    "\n",
    "TmpInput = open(\"MaxX.txt\", \"r\")\n",
    "InputDict = {}\n",
    "\n",
    "for i in TmpInput:\n",
    "    (val, key) = i.rstrip(\"\\n\").split(\" \", 1)\n",
    "    InputDict[key] = val\n",
    "    \n",
    "pprint.pprint(InputDict)`"
   ]
  },
  {
   "cell_type": "code",
   "execution_count": null,
   "metadata": {},
   "outputs": [],
   "source": []
  }
 ],
 "metadata": {
  "kernelspec": {
   "display_name": "Python 3",
   "language": "python",
   "name": "python3"
  },
  "language_info": {
   "codemirror_mode": {
    "name": "ipython",
    "version": 3
   },
   "file_extension": ".py",
   "mimetype": "text/x-python",
   "name": "python",
   "nbconvert_exporter": "python",
   "pygments_lexer": "ipython3",
   "version": "3.6.2"
  }
 },
 "nbformat": 4,
 "nbformat_minor": 2
}
